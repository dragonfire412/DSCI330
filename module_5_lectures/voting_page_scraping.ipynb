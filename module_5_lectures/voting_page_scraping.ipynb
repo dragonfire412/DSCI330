{
 "cells": [
  {
   "cell_type": "code",
   "execution_count": 1,
   "metadata": {},
   "outputs": [],
   "source": [
    "import requests\n",
    "from bs4 import BeautifulSoup"
   ]
  },
  {
   "cell_type": "code",
   "execution_count": 2,
   "metadata": {},
   "outputs": [],
   "source": [
    "pg = 'https://electproject.github.io/Early-Vote-2020G/index.html'\n",
    "r = requests.Session().get(pg)\n",
    "soup = BeautifulSoup(r.content, 'html.parser')"
   ]
  },
  {
   "cell_type": "code",
   "execution_count": 3,
   "metadata": {
    "collapsed": true
   },
   "outputs": [
    {
     "data": {
      "text/plain": [
       "['https://electproject.github.io/Early-Vote-2020G/AK.html',\n",
       " 'https://electproject.github.io/Early-Vote-2020G/AL.html',\n",
       " 'https://electproject.github.io/Early-Vote-2020G/AR.html',\n",
       " 'https://electproject.github.io/Early-Vote-2020G/AZ.html',\n",
       " 'https://electproject.github.io/Early-Vote-2020G/CA.html',\n",
       " 'https://electproject.github.io/Early-Vote-2020G/CO.html',\n",
       " 'https://electproject.github.io/Early-Vote-2020G/CT.html',\n",
       " 'https://electproject.github.io/Early-Vote-2020G/DC.html',\n",
       " 'https://electproject.github.io/Early-Vote-2020G/DE.html',\n",
       " 'https://electproject.github.io/Early-Vote-2020G/FL.html',\n",
       " 'https://electproject.github.io/Early-Vote-2020G/GA.html',\n",
       " 'https://electproject.github.io/Early-Vote-2020G/HI.html',\n",
       " 'https://electproject.github.io/Early-Vote-2020G/IA.html',\n",
       " 'https://electproject.github.io/Early-Vote-2020G/ID.html',\n",
       " 'https://electproject.github.io/Early-Vote-2020G/IL.html',\n",
       " 'https://electproject.github.io/Early-Vote-2020G/IN.html',\n",
       " 'https://electproject.github.io/Early-Vote-2020G/KS.html',\n",
       " 'https://electproject.github.io/Early-Vote-2020G/KY.html',\n",
       " 'https://electproject.github.io/Early-Vote-2020G/LA.html',\n",
       " 'https://electproject.github.io/Early-Vote-2020G/MA.html',\n",
       " 'https://electproject.github.io/Early-Vote-2020G/MD.html',\n",
       " 'https://electproject.github.io/Early-Vote-2020G/ME.html',\n",
       " 'https://electproject.github.io/Early-Vote-2020G/MI.html',\n",
       " 'https://electproject.github.io/Early-Vote-2020G/MN.html',\n",
       " 'https://electproject.github.io/Early-Vote-2020G/MO.html',\n",
       " 'https://electproject.github.io/Early-Vote-2020G/MS.html',\n",
       " 'https://electproject.github.io/Early-Vote-2020G/MT.html',\n",
       " 'https://electproject.github.io/Early-Vote-2020G/NC.html',\n",
       " 'https://electproject.github.io/Early-Vote-2020G/ND.html',\n",
       " 'https://electproject.github.io/Early-Vote-2020G/NE.html',\n",
       " 'https://electproject.github.io/Early-Vote-2020G/NH.html',\n",
       " 'https://electproject.github.io/Early-Vote-2020G/NJ.html',\n",
       " 'https://electproject.github.io/Early-Vote-2020G/NM.html',\n",
       " 'https://electproject.github.io/Early-Vote-2020G/NV.html',\n",
       " 'https://electproject.github.io/Early-Vote-2020G/NY.html',\n",
       " 'https://electproject.github.io/Early-Vote-2020G/OH.html',\n",
       " 'https://electproject.github.io/Early-Vote-2020G/OK.html',\n",
       " 'https://electproject.github.io/Early-Vote-2020G/OR.html',\n",
       " 'https://electproject.github.io/Early-Vote-2020G/PA.html',\n",
       " 'https://electproject.github.io/Early-Vote-2020G/RI.html',\n",
       " 'https://electproject.github.io/Early-Vote-2020G/SC.html',\n",
       " 'https://electproject.github.io/Early-Vote-2020G/SD.html',\n",
       " 'https://electproject.github.io/Early-Vote-2020G/TN.html',\n",
       " 'https://electproject.github.io/Early-Vote-2020G/TX.html',\n",
       " 'https://electproject.github.io/Early-Vote-2020G/UT.html',\n",
       " 'https://electproject.github.io/Early-Vote-2020G/VA.html',\n",
       " 'https://electproject.github.io/Early-Vote-2020G/VT.html',\n",
       " 'https://electproject.github.io/Early-Vote-2020G/WA.html',\n",
       " 'https://electproject.github.io/Early-Vote-2020G/WI.html',\n",
       " 'https://electproject.github.io/Early-Vote-2020G/WV.html',\n",
       " 'https://electproject.github.io/Early-Vote-2020G/WY.html']"
      ]
     },
     "execution_count": 3,
     "metadata": {},
     "output_type": "execute_result"
    }
   ],
   "source": [
    "import re\n",
    "state_url = re.compile(r'/[A-Z]{2}\\.html')\n",
    "\n",
    "urls = [a['href'] for a in soup.find_all('a', attrs={'href':state_url})]\n",
    "urls"
   ]
  },
  {
   "cell_type": "code",
   "execution_count": 4,
   "metadata": {},
   "outputs": [],
   "source": [
    "def parse_page(soup):\n",
    "    values_dict = {}    \n",
    "    state = soup.find('h1', class_=\"title toc-ignore\").text.split(\" Early Voting Statistics\")[0]\n",
    "    values_dict['state'] = state\n",
    "    for strong in soup.find_all('strong'):\n",
    "        if \"ballot request lead\" in strong.parent.text:\n",
    "            continue\n",
    "        value = strong.text.replace(',', '')\n",
    "        try:\n",
    "            value = int(value)\n",
    "            context_id = strong.parent.parent['id']\n",
    "            values_dict[context_id] = value\n",
    "        except ValueError: # string or percentage, not number of votes\n",
    "            pass\n",
    "    return values_dict"
   ]
  },
  {
   "cell_type": "code",
   "execution_count": 6,
   "metadata": {},
   "outputs": [
    {
     "data": {
      "text/plain": [
       "[<strong>113,307</strong>, <strong>161,061</strong>]"
      ]
     },
     "execution_count": 6,
     "metadata": {},
     "output_type": "execute_result"
    }
   ],
   "source": [
    "a_page = requests.Session().get(urls[0])\n",
    "a_soup = BeautifulSoup(a_page.content, 'html.parser')\n",
    "strongs = a_soup.find_all('strong')\n",
    "strongs"
   ]
  },
  {
   "cell_type": "code",
   "execution_count": 7,
   "metadata": {
    "scrolled": true
   },
   "outputs": [
    {
     "data": {
      "text/plain": [
       "['Alaska voters have cast 113,307 mail ballots.',\n",
       " 'Alaska voters have requested 161,061 mail ballots.']"
      ]
     },
     "execution_count": 7,
     "metadata": {},
     "output_type": "execute_result"
    }
   ],
   "source": [
    "[s.parent.text for s in strongs]"
   ]
  },
  {
   "cell_type": "code",
   "execution_count": 8,
   "metadata": {
    "scrolled": true
   },
   "outputs": [
    {
     "data": {
      "text/plain": [
       "{'state': 'Alaska',\n",
       " 'returned-mail-ballots': 113307,\n",
       " 'mail-ballot-requests': 161061}"
      ]
     },
     "execution_count": 8,
     "metadata": {},
     "output_type": "execute_result"
    }
   ],
   "source": [
    "parse_page(a_soup)"
   ]
  },
  {
   "cell_type": "code",
   "execution_count": 9,
   "metadata": {},
   "outputs": [],
   "source": [
    "def make_soup(url: str) -> BeautifulSoup:\n",
    "    print(f\"Processing page at {url}\")\n",
    "    s = requests.Session()\n",
    "    r = s.get(url)\n",
    "    soup = BeautifulSoup(r.content, 'html.parser')\n",
    "    return soup"
   ]
  },
  {
   "cell_type": "code",
   "execution_count": 10,
   "metadata": {
    "collapsed": true
   },
   "outputs": [
    {
     "name": "stdout",
     "output_type": "stream",
     "text": [
      "Processing page at https://electproject.github.io/Early-Vote-2020G/AK.html\n",
      "Processing page at https://electproject.github.io/Early-Vote-2020G/AL.html\n",
      "Processing page at https://electproject.github.io/Early-Vote-2020G/AR.html\n",
      "Processing page at https://electproject.github.io/Early-Vote-2020G/AZ.html\n",
      "Processing page at https://electproject.github.io/Early-Vote-2020G/CA.html\n",
      "Processing page at https://electproject.github.io/Early-Vote-2020G/CO.html\n",
      "Processing page at https://electproject.github.io/Early-Vote-2020G/CT.html\n",
      "Processing page at https://electproject.github.io/Early-Vote-2020G/DC.html\n",
      "Processing page at https://electproject.github.io/Early-Vote-2020G/DE.html\n",
      "Processing page at https://electproject.github.io/Early-Vote-2020G/FL.html\n",
      "Processing page at https://electproject.github.io/Early-Vote-2020G/GA.html\n",
      "Processing page at https://electproject.github.io/Early-Vote-2020G/HI.html\n",
      "Processing page at https://electproject.github.io/Early-Vote-2020G/IA.html\n",
      "Processing page at https://electproject.github.io/Early-Vote-2020G/ID.html\n",
      "Processing page at https://electproject.github.io/Early-Vote-2020G/IL.html\n",
      "Processing page at https://electproject.github.io/Early-Vote-2020G/IN.html\n",
      "Processing page at https://electproject.github.io/Early-Vote-2020G/KS.html\n",
      "Processing page at https://electproject.github.io/Early-Vote-2020G/KY.html\n",
      "Processing page at https://electproject.github.io/Early-Vote-2020G/LA.html\n",
      "Processing page at https://electproject.github.io/Early-Vote-2020G/MA.html\n",
      "Processing page at https://electproject.github.io/Early-Vote-2020G/MD.html\n",
      "Processing page at https://electproject.github.io/Early-Vote-2020G/ME.html\n",
      "Processing page at https://electproject.github.io/Early-Vote-2020G/MI.html\n",
      "Processing page at https://electproject.github.io/Early-Vote-2020G/MN.html\n",
      "Processing page at https://electproject.github.io/Early-Vote-2020G/MO.html\n",
      "Processing page at https://electproject.github.io/Early-Vote-2020G/MS.html\n",
      "Processing page at https://electproject.github.io/Early-Vote-2020G/MT.html\n",
      "Processing page at https://electproject.github.io/Early-Vote-2020G/NC.html\n",
      "Processing page at https://electproject.github.io/Early-Vote-2020G/ND.html\n",
      "Processing page at https://electproject.github.io/Early-Vote-2020G/NE.html\n",
      "Processing page at https://electproject.github.io/Early-Vote-2020G/NH.html\n",
      "Processing page at https://electproject.github.io/Early-Vote-2020G/NJ.html\n",
      "Processing page at https://electproject.github.io/Early-Vote-2020G/NM.html\n",
      "Processing page at https://electproject.github.io/Early-Vote-2020G/NV.html\n",
      "Processing page at https://electproject.github.io/Early-Vote-2020G/NY.html\n",
      "Processing page at https://electproject.github.io/Early-Vote-2020G/OH.html\n",
      "Processing page at https://electproject.github.io/Early-Vote-2020G/OK.html\n",
      "Processing page at https://electproject.github.io/Early-Vote-2020G/OR.html\n",
      "Processing page at https://electproject.github.io/Early-Vote-2020G/PA.html\n",
      "Processing page at https://electproject.github.io/Early-Vote-2020G/RI.html\n",
      "Processing page at https://electproject.github.io/Early-Vote-2020G/SC.html\n",
      "Processing page at https://electproject.github.io/Early-Vote-2020G/SD.html\n",
      "Processing page at https://electproject.github.io/Early-Vote-2020G/TN.html\n",
      "Processing page at https://electproject.github.io/Early-Vote-2020G/TX.html\n",
      "Processing page at https://electproject.github.io/Early-Vote-2020G/UT.html\n",
      "Processing page at https://electproject.github.io/Early-Vote-2020G/VA.html\n",
      "Processing page at https://electproject.github.io/Early-Vote-2020G/VT.html\n",
      "Processing page at https://electproject.github.io/Early-Vote-2020G/WA.html\n",
      "Processing page at https://electproject.github.io/Early-Vote-2020G/WI.html\n",
      "Processing page at https://electproject.github.io/Early-Vote-2020G/WV.html\n",
      "Processing page at https://electproject.github.io/Early-Vote-2020G/WY.html\n"
     ]
    }
   ],
   "source": [
    "soups = [make_soup(url) for url in urls]"
   ]
  },
  {
   "cell_type": "code",
   "execution_count": 11,
   "metadata": {},
   "outputs": [],
   "source": [
    "data_dict = [parse_page(soup) for soup in soups]"
   ]
  },
  {
   "cell_type": "code",
   "execution_count": 14,
   "metadata": {
    "scrolled": true
   },
   "outputs": [],
   "source": [
    "import json\n",
    "json_data = [json.dumps(d, indent=4) for d in data_dict]"
   ]
  },
  {
   "cell_type": "code",
   "execution_count": 15,
   "metadata": {},
   "outputs": [],
   "source": [
    "with open(\"voting_data.json\", \"w\") as outfile:\n",
    "    for part in json_data:\n",
    "        outfile.write(part)"
   ]
  }
 ],
 "metadata": {
  "kernelspec": {
   "display_name": "Python 3",
   "language": "python",
   "name": "python3"
  },
  "language_info": {
   "codemirror_mode": {
    "name": "ipython",
    "version": 3
   },
   "file_extension": ".py",
   "mimetype": "text/x-python",
   "name": "python",
   "nbconvert_exporter": "python",
   "pygments_lexer": "ipython3",
   "version": "3.7.6"
  }
 },
 "nbformat": 4,
 "nbformat_minor": 4
}
