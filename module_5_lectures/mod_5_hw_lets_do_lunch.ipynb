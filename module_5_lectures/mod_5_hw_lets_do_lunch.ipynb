{
 "cells": [
  {
   "cell_type": "markdown",
   "metadata": {},
   "source": [
    "# Module 5 Homework - Let's Get Lunch\n",
    "\n",
    "Suppose we are looking for a good place for lunch on our next trip to La Crosse. Let's collect some data on nearby restaurants."
   ]
  },
  {
   "cell_type": "markdown",
   "metadata": {},
   "source": [
    "## <font color=\"red\"> Problem 1 </font>\n",
    "\n",
    "Goto yelp.com and perform a search with the following parameters\n",
    "\n",
    "* **Find** Restaurants\n",
    "* **Near** La Crosse, WI\n",
    "\n",
    "**Tasks**\n",
    "1. Copy the resulting web address below and determine the how the     specified search terms related to the resulting address\n",
    "2. Use requests and Beautiful Soap to download the content of the front page."
   ]
  },
  {
   "cell_type": "code",
   "execution_count": 1,
   "metadata": {},
   "outputs": [],
   "source": [
    "# Import modules here\n",
    "import requests\n",
    "from bs4 import BeautifulSoup\n",
    "import re # relevant later"
   ]
  },
  {
   "cell_type": "code",
   "execution_count": 2,
   "metadata": {},
   "outputs": [],
   "source": [
    "# Get and process the Yelp search\n",
    "s = requests.Session()\n",
    "r = s.get('https://www.yelp.com/search?find_desc=Restaurants&find_loc=La+Crosse%2C+WI')\n",
    "soup = BeautifulSoup(r.content, \"html.parser\")"
   ]
  },
  {
   "cell_type": "markdown",
   "metadata": {},
   "source": [
    "The category of item searched is the \"find_desc\" (description?), and the location is the \"find_loc\" (location) (%2C is a comma)"
   ]
  },
  {
   "cell_type": "code",
   "execution_count": 3,
   "metadata": {},
   "outputs": [],
   "source": [
    "# Helper function\n",
    "def go_up(tag, n):\n",
    "    \"\"\"Eliminates need to call .parent so many times.\n",
    "    \n",
    "    Args: \n",
    "        tag: bs4.element.Tag\n",
    "        n: Integer value\n",
    "        \n",
    "    Returns:\n",
    "        A bs4.element.Tag that is the nth parent, or None if no parent could be found.\n",
    "    \"\"\"\n",
    "    t = tag\n",
    "    for _ in range(n):\n",
    "        try:\n",
    "            t = t.parent\n",
    "        except AttributeError:\n",
    "            return None\n",
    "    return t"
   ]
  },
  {
   "cell_type": "markdown",
   "metadata": {
    "collapsed": true
   },
   "source": [
    "## <font color=\"red\"> Problem 2 </font>\n",
    "\n",
    "We want to grab the restaurant's name.\n",
    "\n",
    "1. Use Inspect Element to determine the tags/classes for each of the elements listed above.  \n",
    "2. Note that all the business information is contained in a`div` that contains a class similar to  `<div class=\" ... businessName__09f24__3Wql2 ...\">`.  You will need to use a regular expression to match the `businessName` in the class (see lecture 5.3).\n",
    "3. Write expressions/functions to pull out the name of each restaurant.  \n",
    "    * Note: The business name is in an unnamed tag, you will need to navigate to the using searches and/or relationship\n",
    " \n",
    "**Confirm that there is an extra restaurant in the list (e.g. 11-12 instead of 10). This is due to an advertisement/sponsered links, which we want to ignore.**"
   ]
  },
  {
   "cell_type": "markdown",
   "metadata": {},
   "source": [
    "Using alternate approach - find \"a\" tags (because the restaurant name is a link) that has a \"name\" attribute that isn't just an empty string"
   ]
  },
  {
   "cell_type": "code",
   "execution_count": 4,
   "metadata": {},
   "outputs": [
    {
     "data": {
      "text/plain": [
       "['Pappi’s Taqueria y Mas',\n",
       " 'The Waterfront Restaurant & Tavern',\n",
       " 'Restore Public House',\n",
       " 'Lovechild Restaurant',\n",
       " 'Buzzard Billy’s',\n",
       " 'The Charmant',\n",
       " 'The Freighthouse Restaurant',\n",
       " 'Howie’s on La Crosse',\n",
       " 'Piggy’s Restaurant',\n",
       " 'Schuby’s Neighborhood Butcher',\n",
       " 'River Rats Bar and Grill']"
      ]
     },
     "execution_count": 4,
     "metadata": {},
     "output_type": "execute_result"
    }
   ],
   "source": [
    "links = [t for t in soup.find_all(\"a\") if (t.has_attr(\"name\") and t[\"name\"].strip())]\n",
    "names = [t[\"name\"] for t in links]\n",
    "names"
   ]
  },
  {
   "cell_type": "code",
   "execution_count": 5,
   "metadata": {},
   "outputs": [],
   "source": [
    "def get_name_links(soup: BeautifulSoup) -> list:\n",
    "    return [t for t in soup.find_all(\"a\") if (t.has_attr(\"name\") and t[\"name\"].strip())]"
   ]
  },
  {
   "cell_type": "code",
   "execution_count": 6,
   "metadata": {},
   "outputs": [
    {
     "data": {
      "text/plain": [
       "11"
      ]
     },
     "execution_count": 6,
     "metadata": {},
     "output_type": "execute_result"
    }
   ],
   "source": [
    "len(names)"
   ]
  },
  {
   "cell_type": "code",
   "execution_count": 7,
   "metadata": {},
   "outputs": [],
   "source": [
    "def get_business_names(soup: BeautifulSoup) -> list:\n",
    "    \"\"\"Finds all business names on a Yelp page.\n",
    "        \n",
    "    Args:\n",
    "        soup: A BeautifulSoup object of a Yelp search page\n",
    "    \n",
    "    Returns:\n",
    "        A list of strings representing the names of all businesses\n",
    "    \"\"\"\n",
    "    return [t[\"name\"] for t in soup.find_all(\"a\") if (t.has_attr(\"name\") and t[\"name\"].strip())]"
   ]
  },
  {
   "cell_type": "markdown",
   "metadata": {},
   "source": [
    "## <font color=\"red\"> Problem 3 </font>\n",
    "\n",
    "Since we picked up extra information, we will need to be clever about identifying the information block for each restaurant.  Note that all of the actual search results (but not sponsered links) start with the ranking (e.g. `11.`).  Use the following steps to get a list that contains the information for each restaurant other than the adds.\n",
    "\n",
    "1. Start by finding the ranking of the restaurant (1., 2., etc.). **Hint:** You will need to use regular expression to match the text of the tag (see lecture 5.3).\n",
    "2. Now search for a parent of the above tags that surrounds all of the restaurant information.  You will want to use the `find_parent` method on each of the tags from **1.**.  **Hint:** Look through each of the `div` tags that contain the ranking, looking for a meaningful tag name to match with a regular expression.\n",
    "\n",
    "The resulting list will be the starting point for gathering all of the information."
   ]
  },
  {
   "cell_type": "code",
   "execution_count": 8,
   "metadata": {},
   "outputs": [
    {
     "data": {
      "text/plain": [
       "['Pappi’s Taqueria y Mas',\n",
       " '1.\\xa0The Waterfront Restaurant & Tavern',\n",
       " '2.\\xa0Restore Public House',\n",
       " '3.\\xa0Lovechild Restaurant',\n",
       " '4.\\xa0Buzzard Billy’s',\n",
       " '5.\\xa0The Charmant',\n",
       " '6.\\xa0The Freighthouse Restaurant',\n",
       " '7.\\xa0Howie’s on La Crosse',\n",
       " '8.\\xa0Piggy’s Restaurant',\n",
       " '9.\\xa0Schuby’s Neighborhood Butcher',\n",
       " '10.\\xa0River Rats Bar and Grill']"
      ]
     },
     "execution_count": 8,
     "metadata": {},
     "output_type": "execute_result"
    }
   ],
   "source": [
    "[t.parent.text for t in links]"
   ]
  },
  {
   "cell_type": "code",
   "execution_count": 9,
   "metadata": {},
   "outputs": [
    {
     "data": {
      "text/plain": [
       "<re.Match object; span=(0, 1), match='1'>"
      ]
     },
     "execution_count": 9,
     "metadata": {},
     "output_type": "execute_result"
    }
   ],
   "source": [
    "starts_with_num = re.compile(r\"\\d+\")\n",
    "starts_with_num.match('1.\\xa0The Waterfront Restaurant & Tavern') # check against one case"
   ]
  },
  {
   "cell_type": "code",
   "execution_count": 10,
   "metadata": {},
   "outputs": [
    {
     "data": {
      "text/plain": [
       "['The Waterfront Restaurant & Tavern',\n",
       " 'Restore Public House',\n",
       " 'Lovechild Restaurant',\n",
       " 'Buzzard Billy’s',\n",
       " 'The Charmant',\n",
       " 'The Freighthouse Restaurant',\n",
       " 'Howie’s on La Crosse',\n",
       " 'Piggy’s Restaurant',\n",
       " 'Schuby’s Neighborhood Butcher',\n",
       " 'River Rats Bar and Grill']"
      ]
     },
     "execution_count": 10,
     "metadata": {},
     "output_type": "execute_result"
    }
   ],
   "source": [
    "[t[\"name\"] for t in links if starts_with_num.match(t.parent.text)]"
   ]
  },
  {
   "cell_type": "code",
   "execution_count": 11,
   "metadata": {
    "scrolled": true
   },
   "outputs": [
    {
     "data": {
      "text/plain": [
       "[<a class=\"link__09f24__1kwXV link-color--inherit__09f24__3PYlA link-size--inherit__09f24__2Uj95\" href=\"/biz/the-waterfront-restaurant-and-tavern-la-crosse?osq=Restaurants\" name=\"The Waterfront Restaurant &amp; Tavern\" rel=\"\" target=\"\">The Waterfront Restaurant &amp; Tavern</a>,\n",
       " <a class=\"link__09f24__1kwXV link-color--inherit__09f24__3PYlA link-size--inherit__09f24__2Uj95\" href=\"/biz/restore-public-house-la-crosse?osq=Restaurants\" name=\"Restore Public House\" rel=\"\" target=\"\">Restore Public House</a>,\n",
       " <a class=\"link__09f24__1kwXV link-color--inherit__09f24__3PYlA link-size--inherit__09f24__2Uj95\" href=\"/biz/lovechild-restaurant-la-crosse?osq=Restaurants\" name=\"Lovechild Restaurant\" rel=\"\" target=\"\">Lovechild Restaurant</a>,\n",
       " <a class=\"link__09f24__1kwXV link-color--inherit__09f24__3PYlA link-size--inherit__09f24__2Uj95\" href=\"/biz/buzzard-billys-la-crosse-3?osq=Restaurants\" name=\"Buzzard Billy’s\" rel=\"\" target=\"\">Buzzard Billy’s</a>,\n",
       " <a class=\"link__09f24__1kwXV link-color--inherit__09f24__3PYlA link-size--inherit__09f24__2Uj95\" href=\"/biz/the-charmant-la-crosse?osq=Restaurants\" name=\"The Charmant\" rel=\"\" target=\"\">The Charmant</a>,\n",
       " <a class=\"link__09f24__1kwXV link-color--inherit__09f24__3PYlA link-size--inherit__09f24__2Uj95\" href=\"/biz/the-freighthouse-restaurant-la-crosse?osq=Restaurants\" name=\"The Freighthouse Restaurant\" rel=\"\" target=\"\">The Freighthouse Restaurant</a>,\n",
       " <a class=\"link__09f24__1kwXV link-color--inherit__09f24__3PYlA link-size--inherit__09f24__2Uj95\" href=\"/biz/howies-on-la-crosse-la-crosse?osq=Restaurants\" name=\"Howie’s on La Crosse\" rel=\"\" target=\"\">Howie’s on La Crosse</a>,\n",
       " <a class=\"link__09f24__1kwXV link-color--inherit__09f24__3PYlA link-size--inherit__09f24__2Uj95\" href=\"/biz/piggys-restaurant-la-crosse?osq=Restaurants\" name=\"Piggy’s Restaurant\" rel=\"\" target=\"\">Piggy’s Restaurant</a>,\n",
       " <a class=\"link__09f24__1kwXV link-color--inherit__09f24__3PYlA link-size--inherit__09f24__2Uj95\" href=\"/biz/schubys-neighborhood-butcher-la-crosse?osq=Restaurants\" name=\"Schuby’s Neighborhood Butcher\" rel=\"\" target=\"\">Schuby’s Neighborhood Butcher</a>,\n",
       " <a class=\"link__09f24__1kwXV link-color--inherit__09f24__3PYlA link-size--inherit__09f24__2Uj95\" href=\"/biz/river-rats-bar-and-grill-french-island?osq=Restaurants\" name=\"River Rats Bar and Grill\" rel=\"\" target=\"\">River Rats Bar and Grill</a>]"
      ]
     },
     "execution_count": 11,
     "metadata": {},
     "output_type": "execute_result"
    }
   ],
   "source": [
    "# filter previous link list to remove ads\n",
    "of_interest = [t for t in links if starts_with_num.match(t.parent.text)]\n",
    "of_interest"
   ]
  },
  {
   "cell_type": "code",
   "execution_count": 12,
   "metadata": {},
   "outputs": [],
   "source": [
    "def remove_ads(tag_list: list) -> list:\n",
    "    starts_with_num = re.compile(r\"\\d+\")\n",
    "    return [t for t in tag_list if starts_with_num.match(t.parent.text)]"
   ]
  },
  {
   "cell_type": "markdown",
   "metadata": {},
   "source": [
    "## <font color=\"red\"> Problem 4 </font>\n",
    "\n",
    "Write expressions/functions to gather each of the following pieces of information for each of the restaurants."
   ]
  },
  {
   "cell_type": "markdown",
   "metadata": {},
   "source": [
    "#### Restaurant Name"
   ]
  },
  {
   "cell_type": "code",
   "execution_count": 13,
   "metadata": {},
   "outputs": [
    {
     "data": {
      "text/plain": [
       "['The Waterfront Restaurant & Tavern',\n",
       " 'Restore Public House',\n",
       " 'Lovechild Restaurant',\n",
       " 'Buzzard Billy’s',\n",
       " 'The Charmant',\n",
       " 'The Freighthouse Restaurant',\n",
       " 'Howie’s on La Crosse',\n",
       " 'Piggy’s Restaurant',\n",
       " 'Schuby’s Neighborhood Butcher',\n",
       " 'River Rats Bar and Grill']"
      ]
     },
     "execution_count": 13,
     "metadata": {},
     "output_type": "execute_result"
    }
   ],
   "source": [
    "[t[\"name\"] for t in of_interest]"
   ]
  },
  {
   "cell_type": "code",
   "execution_count": 14,
   "metadata": {},
   "outputs": [],
   "source": [
    "def get_names(tags: list) -> list:\n",
    "    return [t['name'] for t in tags]"
   ]
  },
  {
   "cell_type": "code",
   "execution_count": 15,
   "metadata": {},
   "outputs": [
    {
     "data": {
      "text/plain": [
       "['The Waterfront Restaurant & Tavern',\n",
       " 'Restore Public House',\n",
       " 'Lovechild Restaurant',\n",
       " 'Buzzard Billy’s',\n",
       " 'The Charmant',\n",
       " 'The Freighthouse Restaurant',\n",
       " 'Howie’s on La Crosse',\n",
       " 'Piggy’s Restaurant',\n",
       " 'Schuby’s Neighborhood Butcher',\n",
       " 'River Rats Bar and Grill']"
      ]
     },
     "execution_count": 15,
     "metadata": {},
     "output_type": "execute_result"
    }
   ],
   "source": [
    "get_names(of_interest)"
   ]
  },
  {
   "cell_type": "markdown",
   "metadata": {},
   "source": [
    "#### Rating"
   ]
  },
  {
   "cell_type": "code",
   "execution_count": 16,
   "metadata": {},
   "outputs": [
    {
     "data": {
      "text/plain": [
       "['4.5', '4.5', '4.5', '4', '4.5', '4', '4', '4', '4.5', '4.5']"
      ]
     },
     "execution_count": 16,
     "metadata": {},
     "output_type": "execute_result"
    }
   ],
   "source": [
    "[go_up(t,5).next_sibling.div.div.div.span.div['aria-label'].split()[0] for t in of_interest]"
   ]
  },
  {
   "cell_type": "code",
   "execution_count": 17,
   "metadata": {},
   "outputs": [],
   "source": [
    "def get_ratings(anchor_link_tags: list) -> list:\n",
    "    \"\"\"Finds business ratings using parent/child structure with the link tags of the business names passed in.\n",
    "        Returns empty string if data cannot be found.\"\"\"\n",
    "    \n",
    "    ratings = []\n",
    "    for tag in anchor_link_tags:\n",
    "        try:\n",
    "            rating = go_up(tag,5).next_sibling.div.div.div.span.div['aria-label'].split()[0]\n",
    "        except AttributeError:\n",
    "            rating = \"\"\n",
    "        ratings.append(rating)\n",
    "    return ratings"
   ]
  },
  {
   "cell_type": "code",
   "execution_count": 18,
   "metadata": {},
   "outputs": [
    {
     "data": {
      "text/plain": [
       "['4.5', '4.5', '4.5', '4', '4.5', '4', '4', '4', '4.5', '4.5']"
      ]
     },
     "execution_count": 18,
     "metadata": {},
     "output_type": "execute_result"
    }
   ],
   "source": [
    "get_ratings(of_interest)"
   ]
  },
  {
   "cell_type": "markdown",
   "metadata": {},
   "source": [
    "#### Address"
   ]
  },
  {
   "cell_type": "code",
   "execution_count": 19,
   "metadata": {},
   "outputs": [
    {
     "data": {
      "text/plain": [
       "['328 Front St S',\n",
       " '1810 State St',\n",
       " '300 3rd St S',\n",
       " '222 Pearl St',\n",
       " '101 State St',\n",
       " '107 Vine St',\n",
       " '1128 La Crosse St',\n",
       " '501 Front St S',\n",
       " '321 State St',\n",
       " '1311 La Crescent Pl']"
      ]
     },
     "execution_count": 19,
     "metadata": {},
     "output_type": "execute_result"
    }
   ],
   "source": [
    "[go_up(tag, 7).next_sibling.find(\"span\").text for tag in of_interest] # same as before but with custom function to clean up"
   ]
  },
  {
   "cell_type": "code",
   "execution_count": 20,
   "metadata": {},
   "outputs": [],
   "source": [
    "def get_addresses(anchor_link_tags: list) -> list:\n",
    "    \"\"\"Finds addresses using parent/child structure with the link tags of the business names passed in. \n",
    "    If an address cannot be found, returns an empty string.\"\"\"\n",
    "    addresses = []\n",
    "    for tag in anchor_link_tags:\n",
    "        try:\n",
    "            addr = go_up(tag, 7).next_sibling.find(\"span\").text\n",
    "        except AttributeError:\n",
    "            addr = \"\"\n",
    "        addresses.append(addr)\n",
    "    return addresses"
   ]
  },
  {
   "cell_type": "code",
   "execution_count": 21,
   "metadata": {},
   "outputs": [
    {
     "data": {
      "text/plain": [
       "['328 Front St S',\n",
       " '1810 State St',\n",
       " '300 3rd St S',\n",
       " '222 Pearl St',\n",
       " '101 State St',\n",
       " '107 Vine St',\n",
       " '1128 La Crosse St',\n",
       " '501 Front St S',\n",
       " '321 State St',\n",
       " '1311 La Crescent Pl']"
      ]
     },
     "execution_count": 21,
     "metadata": {},
     "output_type": "execute_result"
    }
   ],
   "source": [
    "get_addresses(of_interest)"
   ]
  },
  {
   "cell_type": "markdown",
   "metadata": {},
   "source": [
    "#### Review Count"
   ]
  },
  {
   "cell_type": "code",
   "execution_count": 22,
   "metadata": {},
   "outputs": [
    {
     "data": {
      "text/plain": [
       "[226, 17, 109, 276, 149, 125, 57, 131, 17, 28]"
      ]
     },
     "execution_count": 22,
     "metadata": {},
     "output_type": "execute_result"
    }
   ],
   "source": [
    "[int(go_up(tag, 5).next_sibling.find_all(\"span\")[1].text) for tag in of_interest]"
   ]
  },
  {
   "cell_type": "code",
   "execution_count": 23,
   "metadata": {},
   "outputs": [],
   "source": [
    "def get_rating_counts(anchor_link_tags: list) -> list:\n",
    "    \"\"\"Finds numbers of ratings using parent/child structure with the link tags of the business names passed in.\n",
    "        Will yield 0 if a tag's value is unfindable.\"\"\"\n",
    "\n",
    "    counts = []\n",
    "    for tag in anchor_link_tags:\n",
    "        try:\n",
    "            count = int(go_up(tag, 5).next_sibling.find_all(\"span\")[1].text)\n",
    "        except:\n",
    "            count = 0\n",
    "        counts.append(count)   \n",
    "        \n",
    "    return counts"
   ]
  },
  {
   "cell_type": "code",
   "execution_count": 24,
   "metadata": {},
   "outputs": [
    {
     "data": {
      "text/plain": [
       "[226, 17, 109, 276, 149, 125, 57, 131, 17, 28]"
      ]
     },
     "execution_count": 24,
     "metadata": {},
     "output_type": "execute_result"
    }
   ],
   "source": [
    "get_rating_counts(of_interest)"
   ]
  },
  {
   "cell_type": "markdown",
   "metadata": {},
   "source": [
    "#### Category\n",
    "\n",
    "**Examples:** `['American (New)', 'Seafood', 'Steakhouses']` becomes `'American (New);Seafood;Steakhouses'`"
   ]
  },
  {
   "cell_type": "code",
   "execution_count": 25,
   "metadata": {
    "scrolled": true
   },
   "outputs": [
    {
     "data": {
      "text/plain": [
       "[<a class=\"link__09f24__1kwXV link-color--inherit__09f24__3PYlA link-size--default__09f24__3xWLF\" href=\"/search?cflt=newamerican&amp;find_desc=Restaurants&amp;find_loc=La+Crosse%2C+WI\" name=\"\" rel=\"\" role=\"link\" target=\"\">American (New)</a>,\n",
       " <a class=\"link__09f24__1kwXV link-color--inherit__09f24__3PYlA link-size--default__09f24__3xWLF\" href=\"/search?cflt=seafood&amp;find_desc=Restaurants&amp;find_loc=La+Crosse%2C+WI\" name=\"\" rel=\"\" role=\"link\" target=\"\">Seafood</a>,\n",
       " <a class=\"link__09f24__1kwXV link-color--inherit__09f24__3PYlA link-size--default__09f24__3xWLF\" href=\"/search?cflt=steak&amp;find_desc=Restaurants&amp;find_loc=La+Crosse%2C+WI\" name=\"\" rel=\"\" role=\"link\" target=\"\">Steakhouses</a>]"
      ]
     },
     "execution_count": 25,
     "metadata": {},
     "output_type": "execute_result"
    }
   ],
   "source": [
    "categories = [go_up(tag, 5).next_sibling.next_sibling.find_all(\"a\") for tag in of_interest]\n",
    "categories[0]"
   ]
  },
  {
   "cell_type": "code",
   "execution_count": 26,
   "metadata": {},
   "outputs": [
    {
     "data": {
      "text/plain": [
       "['American (New)', 'Seafood', 'Steakhouses']"
      ]
     },
     "execution_count": 26,
     "metadata": {},
     "output_type": "execute_result"
    }
   ],
   "source": [
    "cleaned_categories = [[a.text for a in go_up(tag, 5).next_sibling.next_sibling.find_all(\"a\")] for tag in of_interest]\n",
    "cleaned_categories[0]"
   ]
  },
  {
   "cell_type": "code",
   "execution_count": 27,
   "metadata": {
    "scrolled": true
   },
   "outputs": [
    {
     "data": {
      "text/plain": [
       "['American (New);Seafood;Steakhouses',\n",
       " 'American (Traditional)',\n",
       " 'American (New)',\n",
       " 'American (Traditional);Cajun/Creole',\n",
       " 'French;Cocktail Bars',\n",
       " 'Seafood;Steakhouses;Desserts',\n",
       " 'American (New);Pubs',\n",
       " 'Steakhouses;Seafood;Sandwiches',\n",
       " 'Butcher;Delis;Caterers',\n",
       " 'American (New);Burgers;Cocktail Bars']"
      ]
     },
     "execution_count": 27,
     "metadata": {},
     "output_type": "execute_result"
    }
   ],
   "source": [
    "joined_categories = [\";\".join(categs) for categs in cleaned_categories]\n",
    "joined_categories"
   ]
  },
  {
   "cell_type": "code",
   "execution_count": 28,
   "metadata": {},
   "outputs": [],
   "source": [
    "def get_categories(anchor_link_tags: list) -> list:\n",
    "    \"\"\"Returns list of strings - business categories joined with semicolon.\n",
    "        Uses parent/child structure with the link tags of the business names passed in\n",
    "        Empty string for unfindable value\"\"\"\n",
    "    cat_strs = []\n",
    "    for tag in anchor_link_tags:\n",
    "        try:\n",
    "            categories = \";\".join([a.text for a in go_up(tag, 5).next_sibling.next_sibling.find_all(\"a\")])\n",
    "        except:\n",
    "            categories = \"\"\n",
    "        cat_strs.append(categories)\n",
    "    return cat_strs"
   ]
  },
  {
   "cell_type": "code",
   "execution_count": 29,
   "metadata": {},
   "outputs": [
    {
     "data": {
      "text/plain": [
       "['American (New);Seafood;Steakhouses',\n",
       " 'American (Traditional)',\n",
       " 'American (New)',\n",
       " 'American (Traditional);Cajun/Creole',\n",
       " 'French;Cocktail Bars',\n",
       " 'Seafood;Steakhouses;Desserts',\n",
       " 'American (New);Pubs',\n",
       " 'Steakhouses;Seafood;Sandwiches',\n",
       " 'Butcher;Delis;Caterers',\n",
       " 'American (New);Burgers;Cocktail Bars']"
      ]
     },
     "execution_count": 29,
     "metadata": {},
     "output_type": "execute_result"
    }
   ],
   "source": [
    "get_categories(of_interest)"
   ]
  },
  {
   "cell_type": "markdown",
   "metadata": {},
   "source": [
    "## <font color=\"red\">  Problem 4 </font>\n",
    "\n",
    "Package all of the expressions in a function that takes a url as input and returns the table of information.  Use a `def` statement and put the above helper functions in the body of the main function.  Test this function on the front page of the search."
   ]
  },
  {
   "cell_type": "code",
   "execution_count": 30,
   "metadata": {
    "code_folding": []
   },
   "outputs": [],
   "source": [
    "def parse_page(url: str) -> list:\n",
    "    sess = requests.Session()\n",
    "    page = sess.get(url)\n",
    "    soup = BeautifulSoup(page.content, \"html.parser\")\n",
    "    \n",
    "    \n",
    "    business_links = remove_ads(get_name_links(soup))\n",
    "    names = get_names(business_links)\n",
    "    ratings = get_ratings(business_links)\n",
    "    addresses = get_addresses(business_links)\n",
    "    review_nums = get_rating_counts(business_links)\n",
    "    categories = get_categories(business_links)\n",
    "    \n",
    "    return [buis_data for buis_data in zip(names,ratings,addresses,review_nums,categories)]    \n",
    "    "
   ]
  },
  {
   "cell_type": "code",
   "execution_count": 31,
   "metadata": {},
   "outputs": [
    {
     "data": {
      "text/plain": [
       "[('Digger’s Sting Restaurant',\n",
       "  '4',\n",
       "  '122 3rd St N',\n",
       "  62,\n",
       "  'American (New);Steakhouses'),\n",
       " ('The Crow', '3.5', '100 3rd St S', 154, 'American (Traditional);Gastropubs'),\n",
       " ('Uno Venti Pizzeria', '4', '120 King St', 17, 'Pizza;Italian;Beer Bar'),\n",
       " ('Burritos House', '4.5', '1205 La Crosse St', 30, 'Mexican'),\n",
       " ('Milwaukee Burger Company',\n",
       "  '3.5',\n",
       "  '3039 Medco Ct',\n",
       "  23,\n",
       "  'Burgers;Sports Bars;Beer Bar'),\n",
       " ('4 Sisters Wine Bar and Tapas',\n",
       "  '3.5',\n",
       "  '100 Harborview Plz',\n",
       "  111,\n",
       "  'Wine Bars;Tapas/Small Plates;Tapas Bars'),\n",
       " ('Iguana’s Mexican Street Café', '4', '1800 State St', 71, 'Mexican'),\n",
       " ('Five Star Eggrolls', '3.5', '1203 La Crosse St', 9, 'Thai;Laotian;Chinese'),\n",
       " ('Le Chateau', '4.5', '410 Cass St', 51, 'French;Wine Bars;Cocktail Bars'),\n",
       " ('Hmong’s Golden Egg Roll',\n",
       "  '4',\n",
       "  '901 State St',\n",
       "  69,\n",
       "  'Laotian;Vietnamese;Thai')]"
      ]
     },
     "execution_count": 31,
     "metadata": {},
     "output_type": "execute_result"
    }
   ],
   "source": [
    "parse_page('https://www.yelp.com/search?find_desc=Restaurants&find_loc=La+Crosse%2C+WI&start=10')"
   ]
  },
  {
   "cell_type": "markdown",
   "metadata": {},
   "source": [
    "## <font color=\"red\">  Problem 5 </font>\n",
    "\n",
    "Now perform a linear search to grab all of the information on restaurants in La Crosse.  You will need to\n",
    "\n",
    "1. Inspect the url for the first, second, etc. pages to determine the pattern.\n",
    "2. Create a list of urls for all search results.\n",
    "3. Get the info from all pages and use your function from the last problem to parse the data into a list.\n",
    "4. Write the results to a csv file. **Hint:** Use `'a'` (append) instead of `'w'` write on all after the first/"
   ]
  },
  {
   "cell_type": "markdown",
   "metadata": {},
   "source": [
    "Pattern: added \"&start={10 * n-1}\" where n is pg number - also works for 1st page (\"&start=0\")"
   ]
  },
  {
   "cell_type": "code",
   "execution_count": 32,
   "metadata": {},
   "outputs": [],
   "source": [
    "urls = [f\"https://www.yelp.com/search?find_desc=Restaurants&find_loc=La%20Crosse%2C%20WI&start={10*pg}\" for pg in range(24)]\n",
    "#urls"
   ]
  },
  {
   "cell_type": "code",
   "execution_count": 33,
   "metadata": {},
   "outputs": [],
   "source": [
    "all_rest_data = [parse_page(url) for url in urls]\n",
    "# all_data = []\n",
    "# for url in urls:\n",
    "#     print(f\"Parsing page at: {url}\")\n",
    "#     data = parse_page(url)\n",
    "#     all_data.append(data)"
   ]
  },
  {
   "cell_type": "code",
   "execution_count": 34,
   "metadata": {},
   "outputs": [],
   "source": [
    "import csv\n",
    "with open(\"restaurants.csv\", \"w\") as outfile:\n",
    "    writer = csv.writer(outfile)\n",
    "    for pg_of_data in all_rest_data:\n",
    "        writer.writerows(pg_of_data)"
   ]
  },
  {
   "cell_type": "markdown",
   "metadata": {},
   "source": [
    "## <font color=\"red\">  Bonus Problem </font>\n",
    "\n",
    "See if you can also grab the latitude and longitude of each result."
   ]
  },
  {
   "cell_type": "code",
   "execution_count": null,
   "metadata": {},
   "outputs": [],
   "source": []
  },
  {
   "cell_type": "code",
   "execution_count": 36,
   "metadata": {},
   "outputs": [
    {
     "data": {
      "text/plain": [
       "'JC TC KS 3H 6S JH 5C TH JD 4S 5D 7C 2H 8S AH 8C AD 5S 9S 5H 8H 9C 4H 2C'"
      ]
     },
     "execution_count": 36,
     "metadata": {},
     "output_type": "execute_result"
    }
   ],
   "source": [
    "\" \".join(reversed(\"2C 4H 9C 8H 5H 9S 5S AD 8C AH 8S 2H 7C 5D 4S JD TH 5C JH 6S 3H KS TC JC\".split()))"
   ]
  }
 ],
 "metadata": {
  "anaconda-cloud": {},
  "kernelspec": {
   "display_name": "Python 3",
   "language": "python",
   "name": "python3"
  },
  "language_info": {
   "codemirror_mode": {
    "name": "ipython",
    "version": 3
   },
   "file_extension": ".py",
   "mimetype": "text/x-python",
   "name": "python",
   "nbconvert_exporter": "python",
   "pygments_lexer": "ipython3",
   "version": "3.7.6"
  }
 },
 "nbformat": 4,
 "nbformat_minor": 1
}
