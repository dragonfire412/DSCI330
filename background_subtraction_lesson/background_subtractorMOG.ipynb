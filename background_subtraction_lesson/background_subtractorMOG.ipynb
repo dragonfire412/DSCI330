{
 "cells": [
  {
   "cell_type": "code",
   "execution_count": 1,
   "metadata": {},
   "outputs": [],
   "source": [
    "# Apply background sub process. Due to GUI issues, it saves each frame out to an image file.\n",
    "import numpy as np\n",
    "import cv2\n",
    "\n",
    "cap = cv2.VideoCapture('car-overhead-1.avi')\n",
    "\n",
    "fgbg = cv2.bgsegm.createBackgroundSubtractorMOG()\n",
    "\n",
    "count = 0\n",
    "while(1):\n",
    "    ret, frame = cap.read()\n",
    "    if frame is None:\n",
    "        break\n",
    "\n",
    "    fgmask = fgbg.apply(frame)\n",
    "\n",
    "    cv2.imwrite(f\"FG_Mask_{count}.png\", fgmask)\n",
    "    count += 1\n",
    "\n",
    "cap.release()"
   ]
  },
  {
   "cell_type": "code",
   "execution_count": 2,
   "metadata": {},
   "outputs": [],
   "source": [
    "# Take all the images created by last part and turn them back into a video\n",
    "import cv2\n",
    "import os\n",
    "\n",
    "video_output_name = 'car_mask_MOGv2.avi'\n",
    "\n",
    "images = [img for img in os.listdir() if img.endswith(\".png\")]\n",
    "frame = cv2.imread(images[0])\n",
    "height, width, layers = frame.shape\n",
    "\n",
    "video = cv2.VideoWriter(video_output_name, 0, 25, (width,height)) # 25 FPS to match original\n",
    "\n",
    "for image in images:\n",
    "    video.write(cv2.imread(image))\n",
    "    os.remove(image)\n",
    "\n",
    "video.release()"
   ]
  }
 ],
 "metadata": {
  "kernelspec": {
   "display_name": "Python 3",
   "language": "python",
   "name": "python3"
  },
  "language_info": {
   "codemirror_mode": {
    "name": "ipython",
    "version": 3
   },
   "file_extension": ".py",
   "mimetype": "text/x-python",
   "name": "python",
   "nbconvert_exporter": "python",
   "pygments_lexer": "ipython3",
   "version": "3.7.9"
  }
 },
 "nbformat": 4,
 "nbformat_minor": 4
}
