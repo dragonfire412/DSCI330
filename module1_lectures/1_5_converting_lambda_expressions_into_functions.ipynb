{
 "cells": [
  {
   "cell_type": "markdown",
   "metadata": {
    "colab_type": "text",
    "id": "view-in-github"
   },
   "source": [
    "<a href=\"https://colab.research.google.com/github/dragonfire412/module1_lectures/blob/master/1_5_converting_lambda_expressions_into_functions.ipynb\" target=\"_parent\"><img src=\"https://colab.research.google.com/assets/colab-badge.svg\" alt=\"Open In Colab\"/></a>"
   ]
  },
  {
   "cell_type": "markdown",
   "metadata": {
    "colab_type": "text",
    "id": "RtsoUolXeRzu",
    "nbpresent": {
     "id": "72b0ede6-af2b-41e9-81af-16c345e658d3"
    }
   },
   "source": [
    "# Converting Lambda Expressions and Functions\n",
    "\n",
    "## Objectives\n",
    "\n",
    "1. Understand abstracting expressions through variables and functions\n",
    "2. Convert a `lambda` function into a `def` statement\n",
    "3. Write good doc strings\n",
    "4. Understand the relationship between `help` and a doc string.\n",
    "5. Understand the `assert` statement\n",
    "6. Write unit tests using a test function with assert statements."
   ]
  },
  {
   "cell_type": "markdown",
   "metadata": {
    "colab_type": "text",
    "id": "1tIyJhOGeRzv",
    "nbpresent": {
     "id": "139d8bbf-a76a-4fae-a525-ee2c85a0f229"
    }
   },
   "source": [
    "## Reusing expressions\n",
    "\n",
    "* Replace values with variables\n",
    "* Identify variables that might change\n",
    "* Make a function with the **lambda expression**\n",
    "    * changeable variables are **expressions**"
   ]
  },
  {
   "cell_type": "markdown",
   "metadata": {
    "colab_type": "text",
    "id": "yd9zii_ueRzv"
   },
   "source": [
    "## Abstraction\n",
    "\n",
    "Applying an **abstraction** involves replacing ***programming detail/complexity*** with a ***meaningful name***."
   ]
  },
  {
   "cell_type": "markdown",
   "metadata": {
    "colab_type": "text",
    "id": "zvDk8eoLeRzw"
   },
   "source": [
    "## Abstracting with Variables\n",
    "\n",
    "* **Abstraction Step 1:** Replace all raww values with a meaningful name"
   ]
  },
  {
   "cell_type": "code",
   "execution_count": null,
   "metadata": {
    "colab": {},
    "colab_type": "code",
    "id": "_gjJJToQeRzw",
    "nbpresent": {
     "id": "812d71b9-f46b-418e-8778-ce9d26182b00"
    },
    "outputId": "f6348541-3421-4a9d-9174-58fcaff273ce"
   },
   "outputs": [
    {
     "data": {
      "text/plain": [
       "101.25"
      ]
     },
     "execution_count": 66,
     "metadata": {
      "tags": []
     },
     "output_type": "execute_result"
    }
   ],
   "source": [
    "# Original Computatation\n",
    "12*15*0.5625"
   ]
  },
  {
   "cell_type": "code",
   "execution_count": null,
   "metadata": {
    "colab": {},
    "colab_type": "code",
    "id": "S9PAgyRxeRz0",
    "nbpresent": {
     "id": "35b904eb-7df9-47d9-84bf-31f1d7056530"
    },
    "outputId": "f4283a24-19f2-45b3-d772-9797a912e986"
   },
   "outputs": [
    {
     "data": {
      "text/plain": [
       "101.25"
      ]
     },
     "execution_count": 67,
     "metadata": {
      "tags": []
     },
     "output_type": "execute_result"
    }
   ],
   "source": [
    "# Substitute names for values to add meaning\n",
    "length = 12\n",
    "width = 15\n",
    "tile_conv = 0.5625\n",
    "num_tile = length*width*tile_conv\n",
    "num_tile"
   ]
  },
  {
   "cell_type": "markdown",
   "metadata": {
    "colab_type": "text",
    "id": "OnheAE9YeRz3"
   },
   "source": [
    "## Abstracting with Lambda Expressions\n",
    "\n",
    "* **Abstraction Step 2:** Packaged expressions in `lambda` to allow reuse."
   ]
  },
  {
   "cell_type": "markdown",
   "metadata": {
    "colab_type": "text",
    "id": "luN7v1tveRz5",
    "nbpresent": {
     "id": "03905b36-aec7-42fb-881c-add435565cf0"
    }
   },
   "source": [
    "#### Identify the variables that might change\n",
    "\n",
    "<font color=\"green\">length</font>\\*<font color=\"red\"> width</font>\\*tile_conv\n"
   ]
  },
  {
   "cell_type": "code",
   "execution_count": null,
   "metadata": {
    "colab": {},
    "colab_type": "code",
    "id": "xtMCMCiyeRz5",
    "nbpresent": {
     "id": "99084922-c9bf-40e0-994c-08635f8e42df"
    },
    "outputId": "e502704b-ffae-4cff-c22b-60cdeeb638e3"
   },
   "outputs": [
    {
     "data": {
      "text/plain": [
       "101.25"
      ]
     },
     "execution_count": 15,
     "metadata": {
      "tags": []
     },
     "output_type": "execute_result"
    }
   ],
   "source": [
    "tile_conv = 0.5625\n",
    "num_tile = lambda length, width: length*width*tile_conv\n",
    "num_tile(12,15) "
   ]
  },
  {
   "cell_type": "markdown",
   "metadata": {
    "colab_type": "text",
    "id": "m3f40dVKeRz8",
    "nbpresent": {
     "id": "2d179aa5-ae35-4577-bdbb-de0625bba434"
    }
   },
   "source": [
    "## How to read a lambda expression\n",
    "\n",
    "* `lambda` means execute later\n",
    "    * does nothing now\n",
    "* Parameter(s) are \"hole(s)\" in the expression\n",
    "    * value filled in later"
   ]
  },
  {
   "cell_type": "markdown",
   "metadata": {
    "colab_type": "text",
    "id": "WChanxVzeRz9",
    "nbpresent": {
     "id": "53694070-bd79-4540-bdfa-e1c2fdf22fd1"
    }
   },
   "source": [
    "### The `def` statement\n",
    "\n",
    "* Starts with `def`\n",
    "* First line is header\n",
    "    * name\n",
    "    * parameters (in parentheses)\n",
    "    * ends in `:` \n",
    "        * to open a code block\n",
    "* Body\n",
    "    * Indented 4 spaces\n",
    "    * Requires explicit `return`"
   ]
  },
  {
   "cell_type": "code",
   "execution_count": null,
   "metadata": {
    "colab": {},
    "colab_type": "code",
    "id": "OZq5sxv0eRz9",
    "nbpresent": {
     "id": "b21c836a-c268-42b2-8e1f-78700a6ece84"
    }
   },
   "outputs": [],
   "source": [
    "def sum_sqr(x, y):\n",
    "    \"\"\" Square and add two numbers\"\"\"\n",
    "    output = x**2 + y**2\n",
    "    return output"
   ]
  },
  {
   "cell_type": "markdown",
   "metadata": {
    "colab_type": "text",
    "id": "EPAjADfaeR0A",
    "nbpresent": {
     "id": "85bb9fd3-b19e-4408-b5bf-43f20eb6c4cf"
    }
   },
   "source": [
    "<img src=\"https://github.com/wsu-stat489/USCOTS2017_workshop/blob/master/img/def_statement_all2.png?raw=true\">"
   ]
  },
  {
   "cell_type": "markdown",
   "metadata": {
    "colab_type": "text",
    "id": "3-CVfqRbeR0A",
    "nbpresent": {
     "id": "2fe549c7-4dce-4c4f-b977-97cf7a030e67"
    }
   },
   "source": [
    "## Docstrings \n",
    "\n",
    "* Docstring: String on the first line of a `def` statement\n",
    "    * Usually multiline\n",
    "* doc strings are used to document functions\n",
    "    * What is shown when calling help\n",
    "* [Google's rules for doc strings](https://google.github.io/styleguide/pyguide.html#383-functions-and-methods)"
   ]
  },
  {
   "cell_type": "code",
   "execution_count": null,
   "metadata": {
    "colab": {},
    "colab_type": "code",
    "id": "HyccnwPueR0A",
    "nbpresent": {
     "id": "604ac523-c97d-42f1-b686-c9b4f8a790c9"
    }
   },
   "outputs": [],
   "source": [
    "def sum_sqr(x, y):\n",
    "    \"\"\" adds the squares of two numbers\n",
    "    \n",
    "    Args:\n",
    "        x: a number\n",
    "        y: a number\n",
    "        \n",
    "    Returns:\n",
    "        A number that is the sum of the squared\n",
    "        values of x and y\n",
    "    \"\"\"\n",
    "    output = x**2 + y**2\n",
    "    return output"
   ]
  },
  {
   "cell_type": "code",
   "execution_count": null,
   "metadata": {
    "colab": {},
    "colab_type": "code",
    "id": "uFnZWxKAeR0D",
    "nbpresent": {
     "id": "588318bd-7982-4084-af14-614a2aee87d7"
    },
    "outputId": "d7295d31-aa06-4c48-cecb-f0ac4ade660d"
   },
   "outputs": [
    {
     "name": "stdout",
     "output_type": "stream",
     "text": [
      "Help on function sum_sqr in module __main__:\n",
      "\n",
      "sum_sqr(x, y)\n",
      "    adds the squares of two numbers\n",
      "    \n",
      "    Args:\n",
      "        x: a number\n",
      "        y: a number\n",
      "        \n",
      "    Returns:\n",
      "        A number that is the sum of the squared\n",
      "        values of x and y\n",
      "\n"
     ]
    }
   ],
   "source": [
    "help(sum_sqr)"
   ]
  },
  {
   "cell_type": "markdown",
   "metadata": {
    "colab_type": "text",
    "id": "xwGAe2nXeR0F",
    "nbpresent": {
     "id": "225cece1-b179-43c6-a128-4c2ddb0a90e0"
    }
   },
   "source": [
    "## The `assert` statement\n",
    "\n",
    "* Syntax: `assert expression`\n",
    "* Silent if expression is true\n",
    "* Error if expression is false\n",
    "* Include and optional message"
   ]
  },
  {
   "cell_type": "code",
   "execution_count": null,
   "metadata": {
    "colab": {},
    "colab_type": "code",
    "id": "IZVUHcdteR0G",
    "nbpresent": {
     "id": "fa3c9967-4805-45fb-b5af-a108dc483fa4"
    }
   },
   "outputs": [],
   "source": [
    "assert sum_sqr(3, 4) == 25\n",
    "assert sum_sqr(0, 0) == 0"
   ]
  },
  {
   "cell_type": "code",
   "execution_count": null,
   "metadata": {
    "colab": {},
    "colab_type": "code",
    "id": "-xXuRuPceR0I",
    "nbpresent": {
     "id": "1a08086d-b272-499f-be19-91ef6665a8db"
    },
    "outputId": "4df7b779-b464-485e-f247-71717bbf10f4"
   },
   "outputs": [
    {
     "ename": "AssertionError",
     "evalue": "",
     "output_type": "error",
     "traceback": [
      "\u001b[0;31m---------------------------------------------------------------------------\u001b[0m",
      "\u001b[0;31mAssertionError\u001b[0m                            Traceback (most recent call last)",
      "\u001b[0;32m<ipython-input-16-87846395074d>\u001b[0m in \u001b[0;36m<module>\u001b[0;34m()\u001b[0m\n\u001b[0;32m----> 1\u001b[0;31m \u001b[0;32massert\u001b[0m \u001b[0msum_sqr\u001b[0m\u001b[0;34m(\u001b[0m\u001b[0;36m3\u001b[0m\u001b[0;34m,\u001b[0m \u001b[0;36m4\u001b[0m\u001b[0;34m)\u001b[0m \u001b[0;34m==\u001b[0m \u001b[0;36m5\u001b[0m\u001b[0;34m\u001b[0m\u001b[0;34m\u001b[0m\u001b[0m\n\u001b[0m",
      "\u001b[0;31mAssertionError\u001b[0m: "
     ]
    }
   ],
   "source": [
    "assert sum_sqr(3, 4) == 5"
   ]
  },
  {
   "cell_type": "code",
   "execution_count": null,
   "metadata": {
    "colab": {},
    "colab_type": "code",
    "id": "o0GHfUxueR0L",
    "nbpresent": {
     "id": "1a08086d-b272-499f-be19-91ef6665a8db"
    },
    "outputId": "39ab9df0-70a4-4bf9-dfc2-95ccffff3dd5"
   },
   "outputs": [
    {
     "ename": "AssertionError",
     "evalue": "3**2 + 4**2 is not 5, but 5**2",
     "output_type": "error",
     "traceback": [
      "\u001b[0;31m---------------------------------------------------------------------------\u001b[0m",
      "\u001b[0;31mAssertionError\u001b[0m                            Traceback (most recent call last)",
      "\u001b[0;32m<ipython-input-17-b764e90a5dfb>\u001b[0m in \u001b[0;36m<module>\u001b[0;34m()\u001b[0m\n\u001b[0;32m----> 1\u001b[0;31m \u001b[0;32massert\u001b[0m \u001b[0msum_sqr\u001b[0m\u001b[0;34m(\u001b[0m\u001b[0;36m3\u001b[0m\u001b[0;34m,\u001b[0m \u001b[0;36m4\u001b[0m\u001b[0;34m)\u001b[0m \u001b[0;34m==\u001b[0m \u001b[0;36m5\u001b[0m\u001b[0;34m,\u001b[0m \u001b[0;34m\"3**2 + 4**2 is not 5, but 5**2\"\u001b[0m\u001b[0;34m\u001b[0m\u001b[0;34m\u001b[0m\u001b[0m\n\u001b[0m",
      "\u001b[0;31mAssertionError\u001b[0m: 3**2 + 4**2 is not 5, but 5**2"
     ]
    }
   ],
   "source": [
    "assert sum_sqr(3, 4) == 5, \"3**2 + 4**2 is not 5, but 5**2\""
   ]
  },
  {
   "cell_type": "markdown",
   "metadata": {
    "colab_type": "text",
    "id": "qgWiDEfbeR0N",
    "nbpresent": {
     "id": "ac34b162-18d8-42ae-a027-2385fb086ddc"
    }
   },
   "source": [
    "## Writing test functions\n",
    "\n",
    "* Name the function \"test_func_name\"\n",
    "    * Allows automatic testing with py.test module\n",
    "* Body consists of assert statements\n",
    "* Follow with a function call\n",
    "* No errors == passed the test"
   ]
  },
  {
   "cell_type": "code",
   "execution_count": null,
   "metadata": {
    "colab": {},
    "colab_type": "code",
    "id": "XQJrnUCheR0O",
    "nbpresent": {
     "id": "e0eaeee6-7ec6-4d69-b6b7-be46baa0c571"
    }
   },
   "outputs": [],
   "source": [
    "def test_leap_year():\n",
    "    assert sum_sqr(3,4) == 25\n",
    "    assert sum_sqr(-3,4) == 25\n",
    "    assert sum_sqr(0,3) == 9\n",
    "    assert sum_sqr(3, 0) == 9\n",
    "    assert sum_sqr(0, 0) == 0\n",
    "test_leap_year() # Silence is golden!"
   ]
  },
  {
   "cell_type": "markdown",
   "metadata": {
    "colab_type": "text",
    "id": "LUyytHameR0Q"
   },
   "source": [
    "### Converting `lambda` expression to `def` statements\n",
    "\n",
    "* lambda expressions process one expression\n",
    "    * add one assignment statement\n",
    "* lambda expressions always return the value\n",
    "    * add a return statement\n",
    "* Always test on some examples!"
   ]
  },
  {
   "cell_type": "code",
   "execution_count": null,
   "metadata": {
    "colab": {},
    "colab_type": "code",
    "id": "EUt3LCLGeR0R",
    "outputId": "71beb9b8-d609-4de3-d864-d9e0f04ef9cb"
   },
   "outputs": [
    {
     "data": {
      "text/plain": [
       "67.5"
      ]
     },
     "execution_count": 22,
     "metadata": {
      "tags": []
     },
     "output_type": "execute_result"
    }
   ],
   "source": [
    "tile_conv = 0.5625\n",
    "num_tile = lambda length, width: length*width*tile_conv\n",
    "num_tile(10,12)"
   ]
  },
  {
   "cell_type": "code",
   "execution_count": null,
   "metadata": {
    "colab": {},
    "colab_type": "code",
    "id": "XQT0-xhFeR0T"
   },
   "outputs": [],
   "source": [
    "def num_tile(length, width):\n",
    "    \"\"\"Compute the number of 9 inch \n",
    "       tile for a room of area length*width\n",
    "       \n",
    "       Args:\n",
    "           length: a number that is length of the room in feet\n",
    "           width: a number that is width of the room in feet\n",
    "           \n",
    "       Returns:\n",
    "           A number representing the number of 9 inch tile \n",
    "           needed to tile the room\n",
    "    \"\"\"\n",
    "    output = length*width*tile_conv\n",
    "    return output\n",
    "\n",
    "def test_num_tile():\n",
    "    assert num_tile(10, 12) == 67.5\n",
    "    assert num_tile(0, 12) == 0\n",
    "test_num_tile()"
   ]
  },
  {
   "cell_type": "markdown",
   "metadata": {
    "colab_type": "text",
    "id": "QFMuZxmleR0V"
   },
   "source": [
    "<img src=\"https://github.com/wsu-stat489/USCOTS2017_workshop/blob/master/img/how_I_write_programs.png?raw=true\">"
   ]
  },
  {
   "cell_type": "markdown",
   "metadata": {
    "colab_type": "text",
    "id": "NKZKgVe_eR0W"
   },
   "source": [
    "### <font color=\"red\"> Exercise 4 </font>\n",
    "\n",
    "Many people keep time using a 24 hour clock (11 is 11am and 23 is 11pm, 0 is midnight). If it is currently 13 and you set your alarm to go off in 50 hours, it will be 15 (3pm). Write a Python function to solve the general version of the above problem using variables and functions. \n",
    "\n",
    "**Hint** You will want to use modular arithmetic"
   ]
  },
  {
   "cell_type": "markdown",
   "metadata": {
    "colab_type": "text",
    "id": "pzTicR17eR0W"
   },
   "source": [
    "#### Step 1 - Solve a specific example with variables and expressions"
   ]
  },
  {
   "cell_type": "code",
   "execution_count": null,
   "metadata": {
    "colab": {
     "base_uri": "https://localhost:8080/",
     "height": 34
    },
    "colab_type": "code",
    "id": "cuS4VaXPeR0X",
    "outputId": "ceb3735d-9bce-471e-ad56-dc298d2ad25d"
   },
   "outputs": [
    {
     "data": {
      "text/plain": [
       "15"
      ]
     },
     "execution_count": 3,
     "metadata": {
      "tags": []
     },
     "output_type": "execute_result"
    }
   ],
   "source": [
    "(13 + 50) % 24"
   ]
  },
  {
   "cell_type": "markdown",
   "metadata": {
    "colab_type": "text",
    "id": "PaD0O-eZeR0Z"
   },
   "source": [
    "#### Step 2 - Convert your expression to a general solution with a `lambda` expression"
   ]
  },
  {
   "cell_type": "code",
   "execution_count": null,
   "metadata": {
    "colab": {
     "base_uri": "https://localhost:8080/",
     "height": 34
    },
    "colab_type": "code",
    "id": "Rnc-bTVIeR0Z",
    "outputId": "e70f3263-2cca-42b5-e9a3-7f361981788e"
   },
   "outputs": [
    {
     "data": {
      "text/plain": [
       "15"
      ]
     },
     "execution_count": 5,
     "metadata": {
      "tags": []
     },
     "output_type": "execute_result"
    }
   ],
   "source": [
    "clock24 = lambda start, add: (start+add) % 24\n",
    "clock24(13,50)"
   ]
  },
  {
   "cell_type": "markdown",
   "metadata": {
    "colab_type": "text",
    "id": "8-c-_5XZeR0d"
   },
   "source": [
    "#### Step 3 - Convert your `lambda` expression to a function (remember to return)"
   ]
  },
  {
   "cell_type": "code",
   "execution_count": null,
   "metadata": {
    "colab": {},
    "colab_type": "code",
    "id": "a2iOTrByeR0d"
   },
   "outputs": [],
   "source": [
    "def add_time_24h(starttime: int, hours: int) -> int:\n",
    "  return (starttime + hours) % 24"
   ]
  },
  {
   "cell_type": "markdown",
   "metadata": {
    "colab_type": "text",
    "id": "GGiuy_UOeR0g"
   },
   "source": [
    "#### Step 4 - Clean up your code by adding a docstring and test function"
   ]
  },
  {
   "cell_type": "code",
   "execution_count": null,
   "metadata": {
    "colab": {},
    "colab_type": "code",
    "id": "DfZNUpzieR0g"
   },
   "outputs": [],
   "source": [
    "def add_time_24h(starttime: int, hours: int) -> int:\n",
    "  \"\"\"Calculates the time on a 24 hour clock after a certain number of hours\n",
    "\n",
    "  Args:\n",
    "    starttime: integer value representing the hour to start from\n",
    "    hours: integer number of hours to add\n",
    "\n",
    "  Returns:\n",
    "    Integer value of hours as represented by 24 hour clock\n",
    "  \"\"\"\n",
    "  return (starttime + hours) % 24\n",
    "\n",
    "\n",
    "def test_add_time_24h():\n",
    "  assert add_time_24h(0,0) == 0\n",
    "  assert add_time_24h(0,24) == 0\n",
    "  assert add_time_24h(12, 13) == 1\n",
    "test_add_time_24h()"
   ]
  }
 ],
 "metadata": {
  "anaconda-cloud": {},
  "colab": {
   "include_colab_link": true,
   "name": "1_5_converting_lambda_expressions_into_functions.ipynb",
   "provenance": []
  },
  "kernelspec": {
   "display_name": "Python 3",
   "language": "python",
   "name": "python3"
  },
  "language_info": {
   "codemirror_mode": {
    "name": "ipython",
    "version": 3
   },
   "file_extension": ".py",
   "mimetype": "text/x-python",
   "name": "python",
   "nbconvert_exporter": "python",
   "pygments_lexer": "ipython3",
   "version": "3.7.6"
  },
  "nbpresent": {
   "slides": {
    "d8cfa8b7-18e5-4d2f-8e92-8164c8bfad3b": {
     "id": "d8cfa8b7-18e5-4d2f-8e92-8164c8bfad3b",
     "prev": null,
     "regions": {
      "81231d63-4899-45f2-b382-fabf4f762896": {
       "attrs": {
        "height": 0.8,
        "width": 0.45,
        "x": 0.5,
        "y": 0.1
       },
       "id": "81231d63-4899-45f2-b382-fabf4f762896"
      },
      "b40d103d-8d7f-44de-8fca-19b2f9861cdd": {
       "attrs": {
        "height": 0.8,
        "width": 0.45,
        "x": 0.05,
        "y": 0.1
       },
       "id": "b40d103d-8d7f-44de-8fca-19b2f9861cdd"
      }
     }
    }
   },
   "themes": {}
  }
 },
 "nbformat": 4,
 "nbformat_minor": 1
}
